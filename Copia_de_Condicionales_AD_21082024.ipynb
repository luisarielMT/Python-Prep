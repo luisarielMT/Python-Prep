{
  "nbformat": 4,
  "nbformat_minor": 0,
  "metadata": {
    "colab": {
      "provenance": [],
      "include_colab_link": true
    },
    "kernelspec": {
      "name": "python3",
      "display_name": "Python 3"
    },
    "language_info": {
      "name": "python"
    }
  },
  "cells": [
    {
      "cell_type": "markdown",
      "metadata": {
        "id": "view-in-github",
        "colab_type": "text"
      },
      "source": [
        "<a href=\"https://colab.research.google.com/github/luisarielMT/Python-Prep/blob/main/Copia_de_Condicionales_AD_21082024.ipynb\" target=\"_parent\"><img src=\"https://colab.research.google.com/assets/colab-badge.svg\" alt=\"Open In Colab\"/></a>"
      ]
    },
    {
      "cell_type": "markdown",
      "source": [
        "# El condicional if\n",
        "El condicional if permite que el programa tome decisiones basadas en condiciones.\n"
      ],
      "metadata": {
        "id": "h3SZxeM6cIh_"
      }
    },
    {
      "cell_type": "markdown",
      "source": [
        "La sintaxis básica del if es:\n",
        "\n",
        "**if condición:**\n",
        "\n",
        "(Identación) Bloque de código que se ejecuta si la condición es verdadera"
      ],
      "metadata": {
        "id": "nVo5BKOicuIl"
      }
    },
    {
      "cell_type": "markdown",
      "source": [
        "### Realizar un programa que imprima si una persona es mayor de 18 años \"Eres mayor de edad\""
      ],
      "metadata": {
        "id": "6NzP4BN5dnHW"
      }
    },
    {
      "cell_type": "code",
      "source": [
        "edad = int(input(\"Ingresa tu edad: \"))\n",
        "if edad >= 18:\n",
        "  print(\"Eres mayor de edad\")"
      ],
      "metadata": {
        "id": "Iks5W2RQdfMM",
        "colab": {
          "base_uri": "https://localhost:8080/"
        },
        "outputId": "90ea39b2-cdbe-4c84-e376-31d3cc6a0c53"
      },
      "execution_count": null,
      "outputs": [
        {
          "name": "stdout",
          "output_type": "stream",
          "text": [
            "Ingresa tu edad: 4\n"
          ]
        }
      ]
    },
    {
      "cell_type": "markdown",
      "source": [
        "# El condicional if-else\n",
        "El condicional if permite que el programa tome decisiones basadas en condiciones. Al agregar else se le da al programa la instrucción de cumplir otra condición en caso de que la primera no se cumpla"
      ],
      "metadata": {
        "id": "3uCvX5gRa8zF"
      }
    },
    {
      "cell_type": "markdown",
      "source": [
        "La sintaxis básica del if-else es:\n",
        "\n",
        "**if condición:**\n",
        "\n",
        "(Identación) Bloque de código que se ejecuta si la condición es verdadera\n",
        "\n",
        "**else:**\n",
        "\n",
        "(Identación) Bloque de código que se ejecuta si la condición es falsa   "
      ],
      "metadata": {
        "id": "EmkvHwg0bGO8"
      }
    },
    {
      "cell_type": "markdown",
      "source": [
        "### Realizar un programa que imprima si una persona es mayor o igual a 18 años \"Eres mayor de edad\", y si es menor a 18 años eres menor de edad"
      ],
      "metadata": {
        "id": "yCcXXAzxePWi"
      }
    },
    {
      "cell_type": "code",
      "source": [
        "edad = int(input(\"Cuantos años tienes? \"))\n",
        "if edad >= 18:\n",
        "  print(\"Eres mayor de edad.\")\n",
        "else:\n",
        "  print(\"Eres menor de edad\")"
      ],
      "metadata": {
        "id": "qlN5Bhx5eM9A",
        "colab": {
          "base_uri": "https://localhost:8080/"
        },
        "outputId": "fd5e92db-134a-4639-b382-0c1f10300b45"
      },
      "execution_count": null,
      "outputs": [
        {
          "output_type": "stream",
          "name": "stdout",
          "text": [
            "Cuantos años tienes? 8\n",
            "Eres menor de edad\n"
          ]
        }
      ]
    },
    {
      "cell_type": "markdown",
      "source": [
        "# elif\n",
        "El condicional elif en Python, que significa \"else if\", se utiliza para verificar múltiples condiciones en secuencia. Permite al programa evaluar una serie de condiciones y ejecutar diferentes bloques de código dependiendo de cuál condición sea verdadera. La estructura if-elif-else es muy útil cuando se necesita tomar decisiones basadas en varias condiciones."
      ],
      "metadata": {
        "id": "MwcZna7Cc5GL"
      }
    },
    {
      "cell_type": "markdown",
      "source": [
        "La sintaxis básica de if-elif-else es la siguiente es la siguiente:\n",
        "\n",
        "if condición1:\n",
        "    # Bloque de código que se ejecuta si condición1 es verdadera\n",
        "elif condición2:\n",
        "    # Bloque de código que se ejecuta si condición1 es falsa y condición2 es verdadera\n",
        "elif condición3:\n",
        "    # Bloque de código que se ejecuta si las condiciones anteriores son falsas y condición3 es verdadera\n",
        "else:\n",
        "    # Bloque de código que se ejecuta si todas las condiciones anteriores son falsas"
      ],
      "metadata": {
        "id": "PoJLpR8OdNJa"
      }
    },
    {
      "cell_type": "markdown",
      "source": [
        "### Realizar un programa que imprima si una persona es mayor o igual a 18 años \"Eres mayor de edad\", y si es mayor a 13 años \"Eres un adolescente\", de lo contrario \"Eres un niño\""
      ],
      "metadata": {
        "id": "zHXxbpJqeoaB"
      }
    },
    {
      "cell_type": "code",
      "source": [
        "edad = int(input(\"Ingresa tu edad: \"))\n",
        "if edad >= 18:\n",
        "  print(\"Eres mayor de edad\")\n",
        "elif edad >=13:\n",
        "  print(\"Eres un adolescente\")\n",
        "else:\n",
        "  print(\"Eres un niño\")"
      ],
      "metadata": {
        "id": "u8KGdioLfQ2B",
        "colab": {
          "base_uri": "https://localhost:8080/"
        },
        "outputId": "4bb65c8f-83b8-40f8-fdc1-d15ead98a398"
      },
      "execution_count": null,
      "outputs": [
        {
          "output_type": "stream",
          "name": "stdout",
          "text": [
            "Ingresa tu edad: 4\n",
            "Eres un niño\n"
          ]
        }
      ]
    },
    {
      "cell_type": "markdown",
      "source": [
        "# EJERCICIOS"
      ],
      "metadata": {
        "id": "Xs7tWODGfWqL"
      }
    },
    {
      "cell_type": "markdown",
      "source": [
        "**Verificar la existencia de una palabra:**\n",
        "\n",
        "Solicita al usuario un texto y una palabra, y verifica si la palabra está presente en el texto."
      ],
      "metadata": {
        "id": "4K5w2N0dlKED"
      }
    },
    {
      "cell_type": "code",
      "source": [
        "texto = input(\"Ingresa un texto: \")\n",
        "palabra = input(\"Ingresa una palabra: \")\n",
        "if palabra in texto:\n",
        "  print(f\"La palabra {palabra} está en el texto\")\n",
        "else:\n",
        "  print(f\"La palabra {palabra} no está en el texto\")"
      ],
      "metadata": {
        "id": "O5C0wAKqlMC0",
        "colab": {
          "base_uri": "https://localhost:8080/"
        },
        "outputId": "177fcf8e-0dce-4ee4-e8a5-94fa7b5b75ae"
      },
      "execution_count": null,
      "outputs": [
        {
          "output_type": "stream",
          "name": "stdout",
          "text": [
            "Ingresa un texto: Python el lenguaje de la analitica de datos\n",
            "Ingresa una palabra: Python\n",
            "La palabra Python está en el texto\n"
          ]
        }
      ]
    },
    {
      "cell_type": "markdown",
      "source": [
        "**Calculadora simple:**\n",
        "\n",
        "Solicita al usuario que ingrese dos números y una operación (suma, resta, multiplicación, división), y luego imprime el resultado de la operación."
      ],
      "metadata": {
        "id": "2R6kSJy6mUo6"
      }
    },
    {
      "cell_type": "code",
      "source": [
        "num1 = float(input(\"Ingresa el primer número: \"))\n",
        "num2= float(input(\"Ingresa el segundo número: \"))\n",
        "operacion = input(\"Ingresa la operación (+,-,*,/): \")\n",
        "if operacion == \"+\":\n",
        "  resultado = num1 + num2\n",
        "elif operacion == \"-\":\n",
        "  resultado = num1 - num2\n",
        "elif operacion == \"*\":\n",
        "  resultado = num1 * num2\n",
        "elif operacion == \"/\":\n",
        "  resultado = num1/num2\n",
        "else:\n",
        "  resultado = \"Digita un caracter valido\"\n",
        "print(f\"El resultado de {num1} {operacion} {num2} es {resultado}\")"
      ],
      "metadata": {
        "id": "-5lDQZujmYA_",
        "colab": {
          "base_uri": "https://localhost:8080/"
        },
        "outputId": "87e9b923-3ee8-491f-cef3-dcbdff6a18af"
      },
      "execution_count": null,
      "outputs": [
        {
          "output_type": "stream",
          "name": "stdout",
          "text": [
            "Ingresa el primer número: 10\n",
            "Ingresa el segundo número: 5\n",
            "Ingresa la operación (+,-,*,/): +\n",
            "El resultado de 10.0 + 5.0 es 15.0\n"
          ]
        }
      ]
    },
    {
      "cell_type": "markdown",
      "source": [
        "**Calcular la cantidad de grupos completos:**\n",
        "\n",
        "Solicita al usuario que ingrese el número total de personas y el tamaño de cada grupo, y luego imprime cuántos grupos completos se pueden formar."
      ],
      "metadata": {
        "id": "SrKZI8Mqmk8a"
      }
    },
    {
      "cell_type": "code",
      "source": [
        "personas = int(input(\"Ingresa el número de personas: \"))\n",
        "tamaño_grupo = int(input(\"Ingresa el tamaño de cada grupo: \"))\n",
        "if tamaño_grupo > 0:\n",
        "  grupos_completos = personas // tamaño_grupo\n",
        "  personas_solas = personas % tamaño_grupo\n",
        "  print(f\"Se pueden formar {grupos_completos} grupos completos y sobran {personas_solas} personas sin grupo.\")\n",
        "else:\n",
        "  print(\"El tamaño del grupo debe se mayor que cero.\")"
      ],
      "metadata": {
        "id": "yQ0Rdr2ymqo3",
        "colab": {
          "base_uri": "https://localhost:8080/"
        },
        "outputId": "12191079-81dd-416d-fd22-b00a4c5f4c92"
      },
      "execution_count": null,
      "outputs": [
        {
          "output_type": "stream",
          "name": "stdout",
          "text": [
            "Ingresa el número de personas: 45\n",
            "Ingresa el tamaño de cada grupo: 4\n",
            "Se pueden formar 11 grupos completos y sobran 1 personas sin grupo.\n"
          ]
        }
      ]
    },
    {
      "cell_type": "code",
      "source": [
        "# con validaciones de tipo de variable\n",
        "personas = int(input(\"Ingresa el número de personas: \"))\n",
        "tamaño_grupo = int(input(\"Ingresa el tamaño de cada grupo: \"))\n",
        "if personas.is_integer():\n",
        "  if tamaño_grupo.is_integer():\n",
        "    if tamaño_grupo > 0:\n",
        "      grupos_completos = personas // tamaño_grupo\n",
        "      personas_solas = personas % tamaño_grupo\n",
        "      print(f\"Se pueden formar {grupos_completos} grupos completos y sobran {personas_solas} personas sin grupo.\")\n",
        "    else:\n",
        "    print(\"El tamaño del grupo debe se mayor que cero.\")\n",
        "  else:\n",
        "  print(\"Tamaño del grupo no es un número valido (entero)\")\n",
        "else:\n",
        "  print(\"Personas no es un número valido (entero)\")"
      ],
      "metadata": {
        "id": "UFKbOGj42MR9"
      },
      "execution_count": null,
      "outputs": []
    },
    {
      "cell_type": "markdown",
      "source": [
        "**Repartir caramelos equitativamente:**\n",
        "\n",
        "El dueño de una dulceria quiere repartir caramelos, dependiendo del total de caramelos que produzca en el día y el número de niños que vayan a la dulcería podrá repartirlos de forma equitativa\n",
        "Solicita al usuario que ingrese la cantidad total de caramelos y la cantidad de niños, y luego imprime cuántos caramelos le tocan a cada niño y cuántos sobran"
      ],
      "metadata": {
        "id": "9JNe9jwfmxad"
      }
    },
    {
      "cell_type": "code",
      "source": [
        "caramelos = int(input(\"Ingresa la cantidad de caramelos producidos: \"))\n",
        "ninos = int(input(\"Ingresa la cantidad de niños: \"))\n",
        "if ninos > 0:\n",
        "  caramelos_nino = caramelos // ninos\n",
        "  caramelos_sobrantes = caramelos % ninos\n",
        "  print(f\"Cada niño recibe {caramelos_nino} caramelos y sobran {caramelos_sobrantes} caramelos.\")\n",
        "else:\n",
        "  print(f\"No llegaron niños, los caramelos siguen siendo {caramelos}\")"
      ],
      "metadata": {
        "id": "KMczKHW1m1IO",
        "colab": {
          "base_uri": "https://localhost:8080/"
        },
        "outputId": "98013e1d-9a43-408d-947d-415776903b02"
      },
      "execution_count": null,
      "outputs": [
        {
          "output_type": "stream",
          "name": "stdout",
          "text": [
            "Ingresa la cantidad de caramelos producidos: 50\n",
            "Ingresa la cantidad de niños: 0\n",
            "No llegaron niños, los caramelos siguen siendo 50\n"
          ]
        }
      ]
    },
    {
      "cell_type": "markdown",
      "source": [
        "**Repartir páginas de un libro:**\n",
        "\n",
        "Solicita al usuario que ingrese el número total de páginas de un libro y la cantidad de páginas que puede leer por día, luego imprime cuántos días necesitará para terminar el libro y cuántas páginas le sobrarán el último día"
      ],
      "metadata": {
        "id": "nYqNZDMPn3jq"
      }
    },
    {
      "cell_type": "code",
      "source": [
        "total_paginas = int(input(\"Ingresa el número total de páginas del libro: \"))\n",
        "paginas_dia = int(input(\"Ingresa la cantidad de páginas que puedes leer por día: \"))\n",
        "if paginas_dia > 0:\n",
        "  dias = total_paginas // paginas_dia\n",
        "  paginas_restantes = total_paginas % paginas_dia\n",
        "  print(f\"Necesitarás {dias} días para leer el libro y sobrarán {paginas_restantes} páginas el último día.\")\n",
        "else:\n",
        "  print(\"No sea perezoso lea!!!\")"
      ],
      "metadata": {
        "id": "dKpRxcuMn2pb",
        "colab": {
          "base_uri": "https://localhost:8080/"
        },
        "outputId": "a4a5ad4d-fcf3-42e0-efcb-135381edf039"
      },
      "execution_count": null,
      "outputs": [
        {
          "output_type": "stream",
          "name": "stdout",
          "text": [
            "Ingresa el número total de páginas del libro: 759\n",
            "Ingresa la cantidad de páginas que puedes leer por día: 20\n",
            "Necesitarás 37 días para leer el libro y sobrarán 19 páginas el último día.\n"
          ]
        }
      ]
    },
    {
      "cell_type": "markdown",
      "source": [
        "**Calcular la distancia entre dos puntos:**\n",
        "\n",
        "Solicita al usuario que ingrese las coordenadas de dos puntos en el plano cartesiano y luego imprime la distancia entre ellos."
      ],
      "metadata": {
        "id": "jflJKKbloUDC"
      }
    },
    {
      "cell_type": "code",
      "source": [
        "import math\n",
        "\n",
        "x1 = float(input(\"Coordenada x del primer punto: \"))\n",
        "y1 = float(input(\"Coordenada y del primer punto: \"))\n",
        "x2 = float(input(\"Coordenada x del segundo punto: \"))\n",
        "y2 = float(input(\"Coordenada y del segundo punto: \"))\n",
        "distancia = math.sqrt((x2-x1)**2 +(y2-y1)**2)\n",
        "print(f\"La distancia entre los puntos es: {distancia}\")"
      ],
      "metadata": {
        "id": "gfVVLpNBoTeN",
        "colab": {
          "base_uri": "https://localhost:8080/"
        },
        "outputId": "141af0c4-edbb-4e54-bb5f-fba60af7748b"
      },
      "execution_count": null,
      "outputs": [
        {
          "output_type": "stream",
          "name": "stdout",
          "text": [
            "Coordenada x del primer punto: 2\n",
            "Coordenada y del primer punto: 3\n",
            "Coordenada x del segundo punto: 9\n",
            "Coordenada y del segundo punto: 8\n",
            "La distancia entre los puntos es: 8.602325267042627\n"
          ]
        }
      ]
    },
    {
      "cell_type": "markdown",
      "source": [
        "**Clasificar la temperatura:**\n",
        "\n",
        "Solicita al usuario que ingrese una temperatura y clasifícala como \"Frío\", \"Templado\", \"Caliente\" o \"Extremadamente Caliente\".\n",
        "\n",
        "Usa los siguientes rangos para la clasificación:\n",
        "\n",
        "Menos de 0 grados: \"Frío\"\n",
        "\n",
        "0 a 20 grados: \"Templado\"\n",
        "\n",
        "21 a 30 grados: \"Caliente\"\n",
        "\n",
        "Más de 30 grados: \"Extremadamente Caliente\""
      ],
      "metadata": {
        "id": "aiGUyIfOomlZ"
      }
    },
    {
      "cell_type": "code",
      "source": [
        "temperatura = float(input(\"Ingresa la temperatua en celcius: \"))\n",
        "if temperatura < 0:\n",
        "  print(\"Frío\")\n",
        "elif temperatura <=20 and temperatura > 0:\n",
        "  print(\"Templado\")\n",
        "elif temperatura >20 and temperatura <= 30:\n",
        "  print(\"Caliente\")\n",
        "else:\n",
        "  print(\"Extremadamente caliente\")"
      ],
      "metadata": {
        "id": "zlMQeRr6opda",
        "colab": {
          "base_uri": "https://localhost:8080/"
        },
        "outputId": "49eac354-0d6c-43bf-e53a-207637f83243"
      },
      "execution_count": null,
      "outputs": [
        {
          "output_type": "stream",
          "name": "stdout",
          "text": [
            "Ingresa la temperatua en celcius: 22\n",
            "Caliente\n"
          ]
        }
      ]
    },
    {
      "cell_type": "markdown",
      "source": [
        "**Verificar si un número es par o impar:**\n",
        "\n",
        "Solicita al usuario un número y verifica si es par o impar."
      ],
      "metadata": {
        "id": "70OoNU1Po3Rl"
      }
    },
    {
      "cell_type": "code",
      "source": [
        "numero = int(input(\"Ingresa un número: \"))\n",
        "if numero % 2 == 0:\n",
        "  print(\"El numero es par.\")\n",
        "else:\n",
        "  print(\"El numero es impar.\")"
      ],
      "metadata": {
        "id": "P48XQKtHo-Z5",
        "colab": {
          "base_uri": "https://localhost:8080/"
        },
        "outputId": "7e077afe-acd2-4450-e344-43d4d1c19f80"
      },
      "execution_count": null,
      "outputs": [
        {
          "output_type": "stream",
          "name": "stdout",
          "text": [
            "Ingresa un número: 7\n",
            "El numero es impar.\n"
          ]
        }
      ]
    },
    {
      "cell_type": "markdown",
      "source": [
        "**Verificar si un número es positivo, negativo o cero:**\n",
        "\n",
        "Solicita al usuario un número y clasifícalo como positivo, negativo o cero."
      ],
      "metadata": {
        "id": "6HNgSUQdpBoz"
      }
    },
    {
      "cell_type": "code",
      "source": [
        "numero = int(input(\"Ingresa un número: \"))\n",
        "if numero > 0:\n",
        "  print(\"El número es positivo\")\n",
        "elif numero < 0:\n",
        "  print(\"El numero es negativo\")\n",
        "else:\n",
        "  print(\"El numero es cero\")"
      ],
      "metadata": {
        "id": "0dl2g9d4pF1K",
        "colab": {
          "base_uri": "https://localhost:8080/"
        },
        "outputId": "8efa6036-4d82-4223-9c6f-8a8493784cd4"
      },
      "execution_count": null,
      "outputs": [
        {
          "output_type": "stream",
          "name": "stdout",
          "text": [
            "Ingresa un número: 0\n",
            "El numero es cero\n"
          ]
        }
      ]
    },
    {
      "cell_type": "markdown",
      "source": [
        "**Comprobar si una cadena contiene una subcadena:**\n",
        "\n",
        "Solicita al usuario una cadena y una subcadena, y verifica si la subcadena está en la cadena."
      ],
      "metadata": {
        "id": "wo6QPdAKpLyq"
      }
    },
    {
      "cell_type": "code",
      "source": [
        "cadena = input(\"Ingresa un texto: \")\n",
        "subcadena = input(\"Ingresa subcadena: \")\n",
        "if subcadena in cadena:\n",
        "  print(\"La subcadena está en la cadena\")\n",
        "else:\n",
        "  print(\"La subcadena NO está en la cadena\")"
      ],
      "metadata": {
        "id": "po2OOpO7pO03",
        "colab": {
          "base_uri": "https://localhost:8080/"
        },
        "outputId": "0d081c6a-e04f-4ab8-e046-dbc50cbe1f04"
      },
      "execution_count": null,
      "outputs": [
        {
          "output_type": "stream",
          "name": "stdout",
          "text": [
            "Ingresa un texto: Python el lenguaje de la análitica de datos\n",
            "Ingresa subcadena: lenguaje de\n",
            "La subcadena está en la cadena\n"
          ]
        }
      ]
    },
    {
      "cell_type": "markdown",
      "source": [
        "**Verificar si un número es múltiplo de 5:**\n",
        "\n",
        "Solicita al usuario un número y verifica si es múltiplo de 5."
      ],
      "metadata": {
        "id": "cvP9sWTipeSJ"
      }
    },
    {
      "cell_type": "code",
      "source": [
        "numero = int(input(\"Ingresa un número: \"))\n",
        "if numero % 5 ==0:\n",
        "  print(\"Es multiplo de 5\")\n",
        "else:\n",
        "  print(\"No es multiplo de 5\")"
      ],
      "metadata": {
        "id": "_7D54mpRpg3T",
        "colab": {
          "base_uri": "https://localhost:8080/"
        },
        "outputId": "2985ea36-46b8-4883-b3d4-afb9b8273c12"
      },
      "execution_count": null,
      "outputs": [
        {
          "output_type": "stream",
          "name": "stdout",
          "text": [
            "Ingresa un número: 17845\n",
            "No es multiplo de 5\n"
          ]
        }
      ]
    },
    {
      "cell_type": "markdown",
      "source": [
        "Un prestigioso restaurante entrega descuentos dependiendo de la edad del consumidor, para las personas menores de 18, 10% de descuento; entre 18 y 65, 5% de descuento; mayor de 65, 15% de descuento. Solicita al usuario su edad y calcula el descuento"
      ],
      "metadata": {
        "id": "MKeAl5ozpqfC"
      }
    },
    {
      "cell_type": "code",
      "source": [
        "edad = int(input(\"Ingresa la edad: \"))\n",
        "if edad < 18:\n",
        "  descuento = 10\n",
        "elif edad <= 65:\n",
        "  descuento = 5\n",
        "else:\n",
        "  descuento = 15\n",
        "print(f\"El descuento es del {descuento}%.\")"
      ],
      "metadata": {
        "id": "Rj9GiFMqp_IK",
        "colab": {
          "base_uri": "https://localhost:8080/"
        },
        "outputId": "f17968d1-c2b6-4d64-af6c-0d4061e47c0e"
      },
      "execution_count": null,
      "outputs": [
        {
          "output_type": "stream",
          "name": "stdout",
          "text": [
            "Ingresa la edad: 18\n",
            "El descuento es del 5%.\n"
          ]
        }
      ]
    },
    {
      "cell_type": "markdown",
      "source": [
        "**Clasificar una cadena por su longitud:**\n",
        "\n",
        "Solicita al usuario una cadena y clasifícala como \"Corta\" (menor a 5), \"Mediana\" (menor o igual a 15) o \"Larga\" (más de 15) según su longitud."
      ],
      "metadata": {
        "id": "FO4KpSt9qCun"
      }
    },
    {
      "cell_type": "code",
      "source": [
        "cadena = input(\"Ingresa un texto: \")\n",
        "longitud = len(cadena)\n",
        "if longitud < 5: # Esto es equivalente a: if len(cadena) < 5:\n",
        "  print(\"La cadena es corta.\")\n",
        "elif longitud <=15:\n",
        "  print(\"La cadena es mediana\")\n",
        "else:\n",
        "  print(\"La cadena es larga\")"
      ],
      "metadata": {
        "id": "D7PlbGeXqFIx",
        "colab": {
          "base_uri": "https://localhost:8080/"
        },
        "outputId": "604828b3-c764-4637-f656-cd4979a31de2"
      },
      "execution_count": null,
      "outputs": [
        {
          "output_type": "stream",
          "name": "stdout",
          "text": [
            "Ingresa un texto: Hola mundo\n",
            "La cadena es mediana\n"
          ]
        }
      ]
    },
    {
      "cell_type": "markdown",
      "source": [
        "**Verificar si un número es divisible por 2 y 3:**\n",
        "\n",
        "Solicita al usuario un número y verifica si es divisible por 2 y 3."
      ],
      "metadata": {
        "id": "I3OlykYFqX6o"
      }
    },
    {
      "cell_type": "code",
      "source": [
        "numero = int(input(\"Ingresa un número: \"))\n",
        "if numero % 2 ==0 and numero % 3 == 0:\n",
        "  print(\"El numero es divisible por 2 y 3\")\n",
        "else:\n",
        "  print(\"El numero no es divisible por 2 y 3\")"
      ],
      "metadata": {
        "id": "mFCHLBXXqcUA",
        "colab": {
          "base_uri": "https://localhost:8080/"
        },
        "outputId": "f5e55078-536f-4935-b35a-d9585d621250"
      },
      "execution_count": null,
      "outputs": [
        {
          "output_type": "stream",
          "name": "stdout",
          "text": [
            "Ingresa un número: 20\n",
            "El numero no es divisible por 2 y 3\n"
          ]
        }
      ]
    },
    {
      "cell_type": "markdown",
      "source": [
        "**Comparar dos números y encontrar el mayor:**\n",
        "\n",
        "Solicita al usuario dos números y encuentra el mayor de ellos"
      ],
      "metadata": {
        "id": "EcIf53Fjqebh"
      }
    },
    {
      "cell_type": "code",
      "source": [
        "num1 = float(input(\"Número 1: \"))\n",
        "num2 = float(input(\"Número 2: \"))\n",
        "if num1 > num2:\n",
        "  print(\"El mayor es el número 1\")\n",
        "elif num1 < num2:\n",
        "  print(\"El mayor es el número 2\")\n",
        "else:\n",
        "  print(\"Ambos números son iguales\")"
      ],
      "metadata": {
        "id": "_pFMsTs4qg7R",
        "colab": {
          "base_uri": "https://localhost:8080/"
        },
        "outputId": "02937237-9960-4af7-849e-b17e1e764574"
      },
      "execution_count": null,
      "outputs": [
        {
          "output_type": "stream",
          "name": "stdout",
          "text": [
            "Número 1: 5\n",
            "Número 2: 5\n",
            "Ambos números son iguales\n"
          ]
        }
      ]
    },
    {
      "cell_type": "markdown",
      "source": [
        "**Calcular el precio final con IVA:**\n",
        "\n",
        "El director de contabilidad de una empresa de ropa esta buscando un programa que le permita calcular el valor de un producto junto con el IVA. No todos los productos tienen IVA, unicamente camisetas, pantalones y chaquetas, los demás productos no tienen. Solicitar al usuario el producto y su precio. Si aplica IVA, calcular el precio final con un IVA del 19%."
      ],
      "metadata": {
        "id": "CALMj8lHqk6Q"
      }
    },
    {
      "cell_type": "code",
      "source": [
        "producto = input(\"Que producto desea averiguar: \")\n",
        "precio = float(input(\"Ingresa el precio del producto: \"))\n",
        "if producto ==\"camisetas\" or producto == \"pantalones\" or producto == \"chaquetas\":\n",
        "  precio_final = precio + 0.19*precio # es equvialente precio*1.19 asfasfasfasfasfasfs\n",
        "else:\n",
        "  precio_final = precio\n",
        "\n",
        "print(f\"El precio final es {precio_final}\")"
      ],
      "metadata": {
        "id": "VPyOKhXkryNh",
        "colab": {
          "base_uri": "https://localhost:8080/"
        },
        "outputId": "ff4e3d95-f4e6-4e72-b9ab-e4a37df296c2"
      },
      "execution_count": null,
      "outputs": [
        {
          "output_type": "stream",
          "name": "stdout",
          "text": [
            "Que producto desea averiguar: camisetas\n",
            "Ingresa el precio del producto: 123\n",
            "El precio final es 146.37\n"
          ]
        }
      ]
    },
    {
      "cell_type": "markdown",
      "source": [
        "**Calcular la raíz cuadrada de un número:**\n",
        "\n",
        "Solicita al usuario un número y calcula su raíz cuadrada. Si el número es negativo, indica que no se puede calcular la raíz cuadrada."
      ],
      "metadata": {
        "id": "UEDA7ay3s0Tq"
      }
    },
    {
      "cell_type": "code",
      "source": [
        "numero = float(input(\"Ingrese un número: \"))\n",
        "if numero > 0:\n",
        "  raiz_cuadrada = math.sqrt(numero)\n",
        "  print(f\"La raiz cuadrada del número {numero} es {raiz_cuadrada}\")\n",
        "else:\n",
        "  print(\"No se puede calcular la raíz cuadrada de un número negativo\")"
      ],
      "metadata": {
        "id": "Ow5NHxgUs2YY",
        "colab": {
          "base_uri": "https://localhost:8080/"
        },
        "outputId": "4ed7e338-3889-42f5-8537-90d2b15e0e6c"
      },
      "execution_count": null,
      "outputs": [
        {
          "output_type": "stream",
          "name": "stdout",
          "text": [
            "Ingrese un número: -64\n",
            "N se puede calcular la raíz cuadrada de un número negativo\n"
          ]
        }
      ]
    },
    {
      "cell_type": "markdown",
      "source": [
        "**Redondear un número hacia arriba o hacia abajo:**\n",
        "\n",
        "Solicita al usuario un número y redondea hacia arriba si el número es positivo, y hacia abajo si es negativo."
      ],
      "metadata": {
        "id": "MsFNAPAos_IG"
      }
    },
    {
      "cell_type": "code",
      "source": [
        "numero = float(input(\"Ingresa un número: \"))\n",
        "if numero > 0:\n",
        "  redondear = math.ceil(numero)\n",
        "else:\n",
        "  redondear = math.floor(numero)\n",
        "print(f\"El numero {numero} redondeado es {redondear}\")"
      ],
      "metadata": {
        "id": "bzuewaKqtB2W",
        "colab": {
          "base_uri": "https://localhost:8080/"
        },
        "outputId": "2b2e7373-f919-4141-d867-9ccf2d2c8923"
      },
      "execution_count": null,
      "outputs": [
        {
          "output_type": "stream",
          "name": "stdout",
          "text": [
            "Ingresa un número: -9.3\n",
            "El numero -9.3 redondeado es -10\n"
          ]
        }
      ]
    },
    {
      "cell_type": "markdown",
      "source": [
        "**Verificar si una palabra está en mayúsculas:**\n",
        "\n",
        "Solicita al usuario una palabra y verifica si está completamente en mayúsculas."
      ],
      "metadata": {
        "id": "O1Xn-bWHtLw4"
      }
    },
    {
      "cell_type": "code",
      "source": [
        "palabra = input(\"Ingresa una palabra: \")\n",
        "if palabra.isupper():\n",
        "  print(\"La palabra está en mayusculas\")\n",
        "else:\n",
        "  print(\"La palabra no está en mayúsculas\")"
      ],
      "metadata": {
        "id": "MFvfLi7UtdpG",
        "colab": {
          "base_uri": "https://localhost:8080/"
        },
        "outputId": "96c2810d-7c1b-448d-c1b8-5fd972c91502"
      },
      "execution_count": null,
      "outputs": [
        {
          "output_type": "stream",
          "name": "stdout",
          "text": [
            "Ingresa una palabra: HOLa mundo\n",
            "La palabra no está en mayúsculas\n"
          ]
        }
      ]
    },
    {
      "cell_type": "markdown",
      "source": [
        "**Calcular el cuadrado de un número si es positivo:**\n",
        "\n",
        "Solicita al usuario un número y calcula su cuadrado si es positivo."
      ],
      "metadata": {
        "id": "f5kutBHftpWn"
      }
    },
    {
      "cell_type": "code",
      "source": [],
      "metadata": {
        "id": "0ZGpx_aYtoy1"
      },
      "execution_count": null,
      "outputs": []
    },
    {
      "cell_type": "markdown",
      "source": [
        "**Verificar si una palabra comienza con una letra específica:**\n",
        "\n",
        "Solicita al usuario una palabra y una letra, y verifica si la palabra comienza con esa letra."
      ],
      "metadata": {
        "id": "L3p8DXcwt59e"
      }
    },
    {
      "cell_type": "code",
      "source": [],
      "metadata": {
        "id": "CfNSWbkVuBoB"
      },
      "execution_count": null,
      "outputs": []
    },
    {
      "cell_type": "markdown",
      "source": [
        "**Comparar longitudes de dos cadenas:**\n",
        "\n",
        "Solicita al usuario dos cadenas y compara sus longitudes."
      ],
      "metadata": {
        "id": "jZa079G5uGdN"
      }
    },
    {
      "cell_type": "code",
      "source": [],
      "metadata": {
        "id": "GVEOAf_GuI0_"
      },
      "execution_count": null,
      "outputs": []
    },
    {
      "cell_type": "markdown",
      "source": [
        "**Calcular el IMC (Índice de Masa Corporal):**\n",
        "\n",
        "Solicita al usuario su peso y altura, calcula su IMC y clasifícalo según los rangos establecidos. (< 18.5, bajo peso), (< 24.9, peso normal),(< 29.9 sobrepeso), otro obesidad"
      ],
      "metadata": {
        "id": "3y3jUIwxuQSY"
      }
    },
    {
      "cell_type": "code",
      "source": [],
      "metadata": {
        "id": "HhviyH5Quw6P"
      },
      "execution_count": null,
      "outputs": []
    },
    {
      "cell_type": "markdown",
      "source": [
        "**Verificar si un número es múltiplo de 3 o 5:**\n",
        "\n",
        "Solicita al usuario un número y verifica si es múltiplo de 3, 5 o ambos."
      ],
      "metadata": {
        "id": "58uu9C6OuzDu"
      }
    },
    {
      "cell_type": "code",
      "source": [],
      "metadata": {
        "id": "fvDaU4Y-vUlM"
      },
      "execution_count": null,
      "outputs": []
    },
    {
      "cell_type": "markdown",
      "source": [
        "**Calcular la raíz cuadrada si el número es positivo:**\n",
        "\n",
        "Solicita al usuario un número y calcula su raíz cuadrada si es positivo."
      ],
      "metadata": {
        "id": "h68JD4a8vX88"
      }
    },
    {
      "cell_type": "code",
      "source": [],
      "metadata": {
        "id": "hRZ2zMeOvaic"
      },
      "execution_count": null,
      "outputs": []
    },
    {
      "cell_type": "markdown",
      "source": [
        "**Redondear un número según su valor:**\n",
        "\n",
        "Solicita al usuario un número y redondea hacia arriba si es mayor que 10, y hacia abajo si es menor o igual a 10."
      ],
      "metadata": {
        "id": "Smqz69vjvet0"
      }
    },
    {
      "cell_type": "code",
      "source": [],
      "metadata": {
        "id": "mQtt2SVpvhvU"
      },
      "execution_count": null,
      "outputs": []
    },
    {
      "cell_type": "markdown",
      "source": [
        "**Verificar si un carácter es una vocal:**\n",
        "\n",
        "Solicita al usuario un carácter y verifica si es una vocal."
      ],
      "metadata": {
        "id": "qfyRZGsZvkOk"
      }
    },
    {
      "cell_type": "code",
      "source": [],
      "metadata": {
        "id": "RMbRj2CfvqCc"
      },
      "execution_count": null,
      "outputs": []
    },
    {
      "cell_type": "markdown",
      "source": [
        "**Calcular el descuento según la cantidad comprada:**\n",
        "\n",
        "Solicita al usuario la cantidad de productos comprados y aplica un descuento según la cantidad: 10% si compra más de 10 productos, 5% si compra entre 5 y 10, y sin descuento si compra menos de 5."
      ],
      "metadata": {
        "id": "0d5wle8YvsFU"
      }
    },
    {
      "cell_type": "code",
      "source": [],
      "metadata": {
        "id": "nZh1XTjnvxzE"
      },
      "execution_count": null,
      "outputs": []
    },
    {
      "cell_type": "markdown",
      "source": [
        "**Calcular la diferencia de edad entre dos personas:**\n",
        "\n",
        "Solicita al usuario las edades de dos personas y calcula la diferencia de edad."
      ],
      "metadata": {
        "id": "-glORDALv4gm"
      }
    },
    {
      "cell_type": "code",
      "source": [],
      "metadata": {
        "id": "RU5bZBRyv3tV"
      },
      "execution_count": null,
      "outputs": []
    },
    {
      "cell_type": "markdown",
      "source": [
        "**Verificar si una palabra contiene una letra:**\n",
        "\n",
        "Solicita al usuario una palabra y una letra, y verifica si la palabra contiene esa letra."
      ],
      "metadata": {
        "id": "cu74vWm2wKzi"
      }
    },
    {
      "cell_type": "code",
      "source": [],
      "metadata": {
        "id": "zIXw8BntwUoM"
      },
      "execution_count": null,
      "outputs": []
    },
    {
      "cell_type": "markdown",
      "source": [
        "**Calcular el costo total de una compra con descuentos acumulables:**\n",
        "\n",
        "Almacenes LaCamiseta desea montar una estrategia de descuentos para sus camisetas,si el cliente compra mas de 7 productos va a descontar el 20% del total de la compra, si compra mas de 3 productos y menos de 7 el 10%; de igual manera si la compra supera en total los cien mil pesos dará un descuento del 50%. Todas las camisetas tienen el mismos precio. Los descuentos son acumulables. Se desea crear un programa que permita calcular el valor de los descuentos en función de las condiciones de la empresa"
      ],
      "metadata": {
        "id": "GE9u1K0gwZpj"
      }
    },
    {
      "cell_type": "code",
      "source": [
        "precio = float(input(\"Ingresa el precio del producto: \"))\n",
        "cantidad = int(input(\"Ingresa la cantidad de productos: \"))\n",
        "total = precio * cantidad\n",
        "if total > 100000:\n",
        "  total_pagar = total - total* 0.5\n",
        "  if cantidad > 7:\n",
        "    total_pagar = total_pagar - total_pagar * 0.2\n",
        "  elif cantidad >=3 and cantidad < 7:\n",
        "    total_pagar = total_pagar -total_pagar * 0.1\n",
        "  else:\n",
        "    total_pagar = total_pagar\n",
        "else:\n",
        "  total_pagar = total\n",
        "  if cantidad > 7:\n",
        "    total_pagar = total_pagar - total_pagar*0.2\n",
        "  elif cantidad >=3 and cantidad < 7:\n",
        "    total_pagar = total_pagar -total_pagar * 0.1\n",
        "  else:\n",
        "    total_pagar = total_pagar\n",
        "print(f\"El costo total es {total_pagar}\")"
      ],
      "metadata": {
        "id": "cJ_gyqI3yAiS",
        "colab": {
          "base_uri": "https://localhost:8080/"
        },
        "outputId": "13716b07-62da-40e1-c322-8d8b98ea984c"
      },
      "execution_count": null,
      "outputs": [
        {
          "output_type": "stream",
          "name": "stdout",
          "text": [
            "Ingresa el precio del producto: 20000\n",
            "Ingresa la cantidad de productos: 6\n",
            "El costo total es 54000.0\n"
          ]
        }
      ]
    },
    {
      "cell_type": "markdown",
      "source": [
        "Variación ejercicio anterior acumulando correctamente los descuentos"
      ],
      "metadata": {
        "id": "tIcWESEAQQBC"
      }
    },
    {
      "cell_type": "code",
      "source": [
        "precio = float(input(\"Ingresa el precio del producto: \"))\n",
        "cantidad = int(input(\"Ingresa la cantidad de productos: \"))\n",
        "total = precio * cantidad\n",
        "if total > 100000:\n",
        "  descuento = 0.5\n",
        "  if cantidad > 7:\n",
        "    descuento = descuento + 0.2\n",
        "  elif cantidad >=3 and cantidad <7:\n",
        "    descuento = descuento + 0.1\n",
        "  else:\n",
        "    descuento = descuento\n",
        "else:\n",
        "  if cantidad > 7:\n",
        "    descuento = 0.2\n",
        "  elif cantidad >=3 and cantidad <7:\n",
        "    descuento = 0.1\n",
        "  else:\n",
        "    descuento = 0\n",
        "print(f\"El costo total es {total - total*descuento}\")"
      ],
      "metadata": {
        "colab": {
          "base_uri": "https://localhost:8080/"
        },
        "id": "t2NwwQi6QYwr",
        "outputId": "37ed8e6e-27c2-45b6-f6b6-761075bf0190"
      },
      "execution_count": null,
      "outputs": [
        {
          "output_type": "stream",
          "name": "stdout",
          "text": [
            "Ingresa el precio del producto: 20000\n",
            "Ingresa la cantidad de productos: 8\n",
            "El costo total es 48000.0\n"
          ]
        }
      ]
    },
    {
      "cell_type": "markdown",
      "source": [
        "**Calcular el costo total de una compra con descuentos no acumulables:**\n",
        "\n",
        "Almacenes LaCamiseta desea montar una estrategia de descuentos para sus camisetas,si el cliente compra mas de 7 productos va a descontar el 20% del total de la compra, si compra mas de 3 productos y menos de 7 el 10%; de igual manera si la compra supera en total los cien mil pesos dará un descuento del 50%. Todas las camisetas tienen el mismos precio. Los descuentos no son acumulables, se tomará el descuento más alto. Se desea crear un programa que permita calcular el valor de los descuentos en función de las condiciones de la empresa"
      ],
      "metadata": {
        "id": "2SvuT0N15MWa"
      }
    },
    {
      "cell_type": "code",
      "source": [
        "precio = float(input(\"Ingresa el precio del producto: \"))\n",
        "cantidad = int(input(\"Ingresa la cantidad de productos: \"))\n",
        "total = precio * cantidad\n",
        "\n",
        "if total > 100000:\n",
        "  descuento_1 = 0.5\n",
        "else:\n",
        "  descuento_1 = 0\n",
        "\n",
        "if cantidad > 7:\n",
        "  descuento_2 = 0.2\n",
        "elif cantidad >=3 and cantidad <7:\n",
        "  descuento_2 = 0.1\n",
        "else:\n",
        "  descuento_2 = 0\n",
        "\n",
        "\n",
        "print(\"****Factura de venta****\")\n",
        "print(f\"Precio de venta: ${precio}\")\n",
        "print(f\"Cantidad: {cantidad}\")\n",
        "print(f\"Total: ${total}\")\n",
        "if descuento_1 >= descuento_2:\n",
        "  print(f\"Descuento: {descuento_1*100}%\")\n",
        "  print(f\"El costo total con descuento es: ${total - total * descuento_1}\")\n",
        "else:\n",
        "  print(f\"Descuento: {descuento_2*100}%\")\n",
        "  print(f\"El costo total con descuento es: ${total - total * descuento_2}\")"
      ],
      "metadata": {
        "id": "A74vcf3a5vfz",
        "colab": {
          "base_uri": "https://localhost:8080/"
        },
        "outputId": "160fba65-6d52-4d65-e0db-4f8a7adc334f"
      },
      "execution_count": null,
      "outputs": [
        {
          "output_type": "stream",
          "name": "stdout",
          "text": [
            "Ingresa el precio del producto: 30000\n",
            "Ingresa la cantidad de productos: 6\n",
            "****Factura de venta****\n",
            "Precio de venta: 30000.0\n",
            "Cantidad: 6\n",
            "Total: 180000.0\n",
            "Descuento: 50.0%\n",
            "El costo total con descuento es: 90000.0\n"
          ]
        }
      ]
    },
    {
      "cell_type": "markdown",
      "source": [
        "**Verificar si una cadena contiene solo letras:**\n",
        "\n",
        "Solicita al usuario una cadena y verifica si contiene solo letras"
      ],
      "metadata": {
        "id": "B08kP-ou8Pf8"
      }
    },
    {
      "cell_type": "code",
      "source": [
        "cadena = input(\"Ingresa una cadena: \")\n",
        "if cadena.isalpha():\n",
        "  print(\"La cadena contiente solo letras\")\n",
        "else:\n",
        "  print(\"La cadena contiene otros caracteres además de letras\")"
      ],
      "metadata": {
        "id": "UOTMuimf8S6C",
        "colab": {
          "base_uri": "https://localhost:8080/"
        },
        "outputId": "5a7ae432-01a8-43ed-abf8-c9476940c236"
      },
      "execution_count": null,
      "outputs": [
        {
          "output_type": "stream",
          "name": "stdout",
          "text": [
            "Ingresa una cadena: $holamundo\n",
            "La cadena contiene otros caracteres además de letras\n"
          ]
        }
      ]
    },
    {
      "cell_type": "markdown",
      "source": [
        "**Calcular el salario semanal con horas extra:**\n",
        "\n",
        "Solicita al usuario las horas trabajadas y la tarifa por hora. Calcula el salario semanal considerando que las horas extra (más de 40) se pagan al 1.5 de la tarifa normal."
      ],
      "metadata": {
        "id": "KzaYtWKV8VSM"
      }
    },
    {
      "cell_type": "code",
      "source": [
        "horas_trabajadas = float(input(\"Ingresa las horas trabajadas: \"))\n",
        "tarifa_hora = float(input(\"Ingresa la tarifa por hora: \"))\n",
        "if horas_trabajadas <= 40:\n",
        "  salario = horas_trabajadas * tarifa_hora\n",
        "else:\n",
        "  horas_extra = horas_trabajadas - 40\n",
        "  salario = (40 * tarifa_hora) + (horas_extra * tarifa_hora * 1.5)\n",
        "\n",
        "print(f\"El salario semanal es de: {salario:.2f}\")"
      ],
      "metadata": {
        "id": "mj7BJ-2n8YxT",
        "colab": {
          "base_uri": "https://localhost:8080/"
        },
        "outputId": "775747f7-d3ed-4bf6-a841-f626edfc1023"
      },
      "execution_count": null,
      "outputs": [
        {
          "output_type": "stream",
          "name": "stdout",
          "text": [
            "Ingresa las horas trabajadas: 2\n",
            "Ingresa la tarifa por hora: 3\n",
            "El salario semanal es de: 6.00\n"
          ]
        }
      ]
    },
    {
      "cell_type": "markdown",
      "source": [
        "**Calcular el salario mensual con bonos:**\n",
        "\n",
        "Solicita al usuario el salario base y la cantidad de ventas realizadas. Si las ventas superan las 100, aplica un bono del 10%."
      ],
      "metadata": {
        "id": "igvSxhYj8esD"
      }
    },
    {
      "cell_type": "code",
      "source": [],
      "metadata": {
        "id": "wUtPcY3y8plC"
      },
      "execution_count": null,
      "outputs": []
    },
    {
      "cell_type": "markdown",
      "source": [
        "**Calcular la diferencia de edad entre dos personas:**\n",
        "\n",
        "Solicita al usuario las edades de dos personas y calcula la diferencia de edad."
      ],
      "metadata": {
        "id": "xQhhoPiY8uMi"
      }
    },
    {
      "cell_type": "code",
      "source": [],
      "metadata": {
        "id": "oAZytv2v8wH6"
      },
      "execution_count": null,
      "outputs": []
    },
    {
      "cell_type": "markdown",
      "source": [
        "**Determinar el costo del estacionamiento:**\n",
        "\n",
        "Solicita al usuario el tiempo en horas que ha estacionado su vehículo y calcula el costo. Las primeras dos horas son gratuitas, las siguientes tres horas tienen un costo de  5 cada una, y después de eso, cada hora adicional cuesta  10."
      ],
      "metadata": {
        "id": "RrbucB6q8xmT"
      }
    },
    {
      "cell_type": "code",
      "source": [
        "horas = float(input(\"Ingresa el tiempo de estacionamiento en horas: \"))\n",
        "if horas <= 2:\n",
        "  costo = 0\n",
        "elif horas <=5:\n",
        "  costo = (horas - 2) * 5\n",
        "else:\n",
        "  costo = (horas - 5) * 10 + (3 * 5)\n",
        "print(f\"El costo del estacionamiento es de ${costo}\")"
      ],
      "metadata": {
        "id": "3h3DSCA98-eZ",
        "colab": {
          "base_uri": "https://localhost:8080/"
        },
        "outputId": "8b859704-862a-4952-f5c8-4048b35253f0"
      },
      "execution_count": null,
      "outputs": [
        {
          "output_type": "stream",
          "name": "stdout",
          "text": [
            "Ingresa el tiempo de estacionamiento en horas: 10\n",
            "El costo del estacionamiento es de $65.0\n"
          ]
        }
      ]
    },
    {
      "cell_type": "markdown",
      "source": [
        "**Calcular el precio del boleto de cine:**\n",
        "\n",
        "Solicita al usuario su edad y calcula el precio del boleto de cine. Niños menores de 12 años pagan 5, personas de 12 a 60 años pagan 10, y mayores de 60 años pagan 7."
      ],
      "metadata": {
        "id": "yk9OQTBF9BcJ"
      }
    },
    {
      "cell_type": "code",
      "source": [],
      "metadata": {
        "id": "bGqSnYad9He6"
      },
      "execution_count": null,
      "outputs": []
    },
    {
      "cell_type": "markdown",
      "source": [
        "**Calcular la tarifa de taxi:**\n",
        "\n",
        "Solicita al usuario la distancia recorrida en kilómetros y calcula la tarifa del taxi. La tarifa base es de $3 por los primeros 2 km y $2 por cada km adicional."
      ],
      "metadata": {
        "id": "gCncTkr59J5n"
      }
    },
    {
      "cell_type": "code",
      "source": [],
      "metadata": {
        "id": "CehwAicO9NGR"
      },
      "execution_count": null,
      "outputs": []
    },
    {
      "cell_type": "markdown",
      "source": [
        "**Determinar el nivel de gasolina:**\n",
        "\n",
        "Solicita al usuario el nivel de gasolina (en litros) y clasifícalo como \"Vacío\", \"Medio\" o \"Lleno"
      ],
      "metadata": {
        "id": "A0ap2tFg9QUZ"
      }
    },
    {
      "cell_type": "code",
      "source": [],
      "metadata": {
        "id": "s24xZVuj9TnK"
      },
      "execution_count": null,
      "outputs": []
    },
    {
      "cell_type": "markdown",
      "source": [
        "**Sistema de Clasificación de Clientes con Frecuencia de Compras**\n",
        "\n",
        "Una tienda desea clasificar a sus clientes en diferentes niveles basados en sus compras anuales. Si un cliente ha gastado más de 5000 en el año, es clasificado como \"VIP\". Si ha gastado entre 2000 y 5000, es \"Preferente\". Si ha gastado menos de 2000, es \"Regular\". Además, si el cliente ha realizado más de 20 compras en el año, se le sube un nivel en su clasificación. Si el cliente ha realizado compras mensuales consistentes durante el año, se le sube otro nivel. Crea un programa que determine la clasificación final del cliente."
      ],
      "metadata": {
        "id": "xYke6KEZ_y6x"
      }
    },
    {
      "cell_type": "code",
      "source": [],
      "metadata": {
        "id": "aOPHu5yP_621"
      },
      "execution_count": null,
      "outputs": []
    },
    {
      "cell_type": "markdown",
      "source": [
        "**Sistema de Puntos en un Supermercado con Categorías de Productos**\n",
        "\n",
        "Un supermercado desea implementar un sistema de puntos para sus clientes. Si el cliente compra más de 10 productos, recibe 50 puntos. Si compra entre 5 y 10 productos, recibe 20 puntos. Además, si el total de la compra supera los $200, recibe 100 puntos adicionales. Si el cliente compra más de 3 productos de categoría \"Premium\", recibe 30 puntos adicionales. Crea un programa que calcule el total de puntos obtenidos."
      ],
      "metadata": {
        "id": "ESK4_l7hAHEv"
      }
    },
    {
      "cell_type": "code",
      "source": [],
      "metadata": {
        "id": "_UqlJ9ZNAKI4"
      },
      "execution_count": null,
      "outputs": []
    },
    {
      "cell_type": "markdown",
      "source": [
        "**Evaluación de Créditos Hipotecarios con Historial de Crédito**\n",
        "\n",
        "Una entidad financiera desea evaluar la capacidad de pago de sus clientes para otorgar créditos hipotecarios. Si el cliente tiene un ingreso mensual superior a 5000, se le otorga un crédito con una tasa de interés del 5%. Si el ingreso es entre 3000 y 5000, la tasa es del 7 %. Además, si el cliente tiene menos de 35 años, se reduce la tasa en un 1%. Si el cliente tiene un historial de crédito excelente, se reduce la tasa en un 0.5% adicional. Crea un programa que calcule la tasa de interés final."
      ],
      "metadata": {
        "id": "Sr1U3waeAP2w"
      }
    },
    {
      "cell_type": "code",
      "source": [],
      "metadata": {
        "id": "0xzuM1ttAS2g"
      },
      "execution_count": null,
      "outputs": []
    },
    {
      "cell_type": "markdown",
      "source": [
        "**Plan de Ahorro para Jubilación con Dependientes**\n",
        "\n",
        "Un banco desea ofrecer un plan de ahorro para jubilación. Si el cliente tiene menos de 30 años, se le sugiere ahorrar el 20% de su salario mensual. Si tiene entre 30 y 50 años, el 15%, y si tiene más de 50 años, el 10%. Además, si el cliente tiene dependientes, se le sugiere un 5% adicional de ahorro. Si el cliente tiene más de 3 dependientes, se le sugiere un 2% adicional. Crea un programa que calcule el porcentaje total de ahorro sugerido."
      ],
      "metadata": {
        "id": "gaUyxSOSAWGn"
      }
    },
    {
      "cell_type": "code",
      "source": [],
      "metadata": {
        "id": "0Mlijq3YAf4P"
      },
      "execution_count": null,
      "outputs": []
    },
    {
      "cell_type": "markdown",
      "source": [
        "**Evaluación de Estudiantes con Asignaturas Adicionales**\n",
        "\n",
        "Una escuela desea implementar un sistema de evaluación para sus estudiantes. Si un estudiante tiene un promedio superior a 90, se le otorgará una beca del 50%. Si el promedio es entre 80 y 90, se le otorgará una beca del 30%. Además, si el estudiante ha participado en al menos 3 actividades extracurriculares, se le otorgará un 20% adicional en su beca. Si el estudiante tiene más de 5 asignaturas adicionales, se le otorga un 10% adicional. Los descuentos son acumulables. Crea un programa que calcule el porcentaje total de beca."
      ],
      "metadata": {
        "id": "O4QmM00eAkSn"
      }
    },
    {
      "cell_type": "code",
      "source": [],
      "metadata": {
        "id": "k3Lhv2DEAmtH"
      },
      "execution_count": null,
      "outputs": []
    },
    {
      "cell_type": "markdown",
      "source": [
        "**Ferretería ElTornillo**\n",
        "\n",
        "La Ferretería ElTornillo desea aplicar descuentos a sus clientes. Si un cliente compra más de 5 herramientas, recibe un 20% de descuento en la compra total. Si el cliente compra más de 8 materiales de construcción, se aplica un 15% adicional. Además, si el total de la compra supera los $400, se da un descuento del 30%. Los descuentos son acumulables. Crea un programa que calcule el valor total con los descuentos aplicados."
      ],
      "metadata": {
        "id": "M6lnVPAvA-dn"
      }
    },
    {
      "cell_type": "code",
      "source": [],
      "metadata": {
        "id": "0KqTqVlsBGY7"
      },
      "execution_count": null,
      "outputs": []
    },
    {
      "cell_type": "markdown",
      "source": [
        "**Sistema de Evaluación de Rendimiento de Empleados**\n",
        "\n",
        "Una empresa desea implementar un sistema de evaluación de rendimiento para sus empleados. La evaluación se basa en tres factores: productividad, calidad y asistencia, cada uno con un puntaje de 0 a 100. El rendimiento se clasifica como \"Excelente\" si el promedio de los tres factores es superior a 90, \"Bueno\" si está entre 75 y 90, y \"Regular\" si está entre 50 y 75. Además, si la asistencia es inferior a 80, se reduce la clasificación en un nivel. Implementa un programa que calcule la clasificación final del rendimiento."
      ],
      "metadata": {
        "id": "vxkJmOLWk_Md"
      }
    },
    {
      "cell_type": "code",
      "source": [],
      "metadata": {
        "id": "kbG6C4WflFem"
      },
      "execution_count": null,
      "outputs": []
    },
    {
      "cell_type": "markdown",
      "source": [
        "**Sistema de Clasificación de Créditos Hipotecarios**\n",
        "\n",
        "Un banco desea evaluar la capacidad de pago de sus clientes para otorgar créditos hipotecarios. La clasificación se basa en el ingreso mensual, la deuda actual y la edad del cliente. Si el ingreso es superior a 5000 y la deuda es inferior a 2000, se otorga el crédito con una tasa de interés del 5%. Si el ingreso es entre 3000 y 5000 y la deuda es inferior a 3000, la tasa es del 7%. Además, si el cliente tiene menos de 35 años, la tasa se reduce en un 1%. Implementa un programa que determine la tasa de interés final."
      ],
      "metadata": {
        "id": "FYrvu4-vlH3e"
      }
    },
    {
      "cell_type": "code",
      "source": [
        "ingreso_mensual = float(input(\"Ingresa el ingreso mensual del cliente: \"))\n",
        "deuda_actual = float(input(\"Ingresa la deuda actual del cliente: \"))\n",
        "edad = int(input(\"Ingresa la edad del cliente: \"))\n",
        "\n",
        "if ingreso_mensual > 5000 and deuda_actual < 2000:\n",
        "  tasa_interes = 0.05\n",
        "elif ingreso_mensual >= 3000 and ingreso_mensual <= 5000 and deuda_actual < 3000:\n",
        "  tasa_interes = 0.07\n",
        "else:\n",
        "  tasa_interes = 0.1\n",
        "\n",
        "if edad < 35:\n",
        "  tasa_interes = tasa_interes - 0.01 #Esto equivalente:  tasa_interes -= 0.01\n",
        "\n",
        "print(f\"La tasa de interés final es: {tasa_interes *100:.2f}%\")"
      ],
      "metadata": {
        "id": "D4NmLo0HlKr1",
        "colab": {
          "base_uri": "https://localhost:8080/"
        },
        "outputId": "23aa10df-78dd-4d13-8c5f-3a105af5479f"
      },
      "execution_count": null,
      "outputs": [
        {
          "output_type": "stream",
          "name": "stdout",
          "text": [
            "Ingresa el ingreso mensual del cliente: 1500\n",
            "Ingresa la deuda actual del cliente: 2600\n",
            "Ingresa la edad del cliente: 33\n",
            "La tasa de interés final es: 9.00%\n"
          ]
        }
      ]
    },
    {
      "cell_type": "markdown",
      "source": [
        "**Sistema de Facturación en un Restaurante**\n",
        "\n",
        "Un restaurante desea implementar un sistema de facturación que considere descuentos y cargos adicionales. Si el cliente ordena más de 5 platos principales, se aplica un descuento del 15%. Si el cliente ordena más de 2 postres, se aplica un cargo adicional del 10%. Además, si la factura total supera los $300, se aplica un descuento adicional del 5%. Implementa un programa que calcule el valor total a pagar."
      ],
      "metadata": {
        "id": "KnyMrXhElPVm"
      }
    },
    {
      "cell_type": "code",
      "source": [],
      "metadata": {
        "id": "A-iiAB9PlOZV"
      },
      "execution_count": null,
      "outputs": []
    },
    {
      "cell_type": "markdown",
      "source": [
        "**Sistema de Bonificación en una Empresa**\n",
        "\n",
        "Una empresa desea implementar un sistema de bonificación para sus empleados. La bonificación se basa en el desempeño anual (0 a 100) y la antigüedad (años de trabajo). Si el desempeño es superior a 85 y la antigüedad es mayor a 5 años, la bonificación es del 20% del salario anual. Si el desempeño es entre 70 y 85 y la antigüedad es mayor a 3 años, la bonificación es del 10%. Si el desempeño es menor a 70, no hay bonificación. Implementa un programa que calcule el monto de la bonificación."
      ],
      "metadata": {
        "id": "ym9GtrIPlUl9"
      }
    },
    {
      "cell_type": "code",
      "source": [],
      "metadata": {
        "id": "NN3yaNYClXem"
      },
      "execution_count": null,
      "outputs": []
    },
    {
      "cell_type": "markdown",
      "source": [
        "**Sistema de Determinación de Seguro de Vida**\n",
        "\n",
        "Una aseguradora desea implementar un sistema para determinar el costo del seguro de vida de sus clientes. El costo base es de $1000. Si el cliente tiene más de 50 años, se agrega un cargo del 20%. Si el cliente tiene una condición médica preexistente, se agrega un cargo del 30%. Además, si el cliente fuma, se agrega un cargo adicional del 25%. Implementa un programa que calcule el costo total del seguro de vida."
      ],
      "metadata": {
        "id": "6It1rEAOlZjd"
      }
    },
    {
      "cell_type": "code",
      "source": [],
      "metadata": {
        "id": "bf1J_RNGlcoF"
      },
      "execution_count": null,
      "outputs": []
    }
  ]
}